{
 "cells": [
  {
   "cell_type": "code",
   "execution_count": 1,
   "id": "35b57e25-bc79-4265-86e9-fd5727b9eadc",
   "metadata": {},
   "outputs": [
    {
     "name": "stderr",
     "output_type": "stream",
     "text": [
      "IOPub data rate exceeded.\n",
      "The Jupyter server will temporarily stop sending output\n",
      "to the client in order to avoid crashing it.\n",
      "To change this limit, set the config variable\n",
      "`--ServerApp.iopub_data_rate_limit`.\n",
      "\n",
      "Current values:\n",
      "ServerApp.iopub_data_rate_limit=1000000.0 (bytes/sec)\n",
      "ServerApp.rate_limit_window=3.0 (secs)\n",
      "\n"
     ]
    }
   ],
   "source": [
    "dataset_url = \"https://www.covid19.admin.ch/api/data/20211027-weppzp5n/sources/COVID19VaccDosesAdministered_indication_w.json\"\n",
    "import urllib.request, json \n",
    "with urllib.request.urlopen(dataset_url) as url:\n",
    "    data = json.loads(url.read().decode())\n",
    "    print(data)"
   ]
  },
  {
   "cell_type": "code",
   "execution_count": 9,
   "id": "4de9a970-b3ef-42e2-a0eb-47906bbe69d4",
   "metadata": {},
   "outputs": [],
   "source": [
    "jsonurl = urllib.request.urlopen(dataset_url)\n",
    "observations = json.loads(jsonurl.read())"
   ]
  },
  {
   "cell_type": "code",
   "execution_count": 10,
   "id": "02235abd-1433-4116-885e-bfbe10d90a8d",
   "metadata": {},
   "outputs": [
    {
     "name": "stdout",
     "output_type": "stream",
     "text": [
      "10208\n"
     ]
    }
   ],
   "source": [
    "print(len(text))"
   ]
  },
  {
   "cell_type": "code",
   "execution_count": 11,
   "id": "9be56859-5daa-49a7-b7e5-a365e0f438e6",
   "metadata": {},
   "outputs": [
    {
     "name": "stdout",
     "output_type": "stream",
     "text": [
      "<class 'list'>\n"
     ]
    }
   ],
   "source": [
    "print(type(text))"
   ]
  },
  {
   "cell_type": "code",
   "execution_count": 13,
   "id": "9c45ab2f-44b2-4bfb-8414-081adb978052",
   "metadata": {},
   "outputs": [
    {
     "name": "stdout",
     "output_type": "stream",
     "text": [
      "{'date': 202111, 'geoRegion': 'AG', 'indication': 'med_prof', 'entries': 1942, 'type_variant': 'indication', 'pop': 694072, 'sumTotal': 16194, 'freq': 0.184, 'prct': 18.4, 'prctSumTotal': 16.4, 'per100Persons': 0.28, 'per100PersonsTotal': 2.33, 'type': 'COVID19VaccDosesAdministered', 'version': '2021-10-27_08-03-17', 'granularity': 'detailed'}\n"
     ]
    }
   ],
   "source": [
    "print(text[100])"
   ]
  },
  {
   "cell_type": "code",
   "execution_count": 12,
   "id": "076184d1-1bf0-434e-a8ea-63c406d2d235",
   "metadata": {},
   "outputs": [
    {
     "ename": "IndentationError",
     "evalue": "expected an indented block (705750604.py, line 1)",
     "output_type": "error",
     "traceback": [
      "\u001b[0;36m  File \u001b[0;32m\"/var/folders/tp/3p4kxwzd4_schmp9mmvj1h4r0000gn/T/ipykernel_68194/705750604.py\"\u001b[0;36m, line \u001b[0;32m1\u001b[0m\n\u001b[0;31m    for observation in observations:\u001b[0m\n\u001b[0m                                    ^\u001b[0m\n\u001b[0;31mIndentationError\u001b[0m\u001b[0;31m:\u001b[0m expected an indented block\n"
     ]
    }
   ],
   "source": [
    "for observation in observations:\n",
    "    print(observation['geoRegion'])"
   ]
  },
  {
   "cell_type": "code",
   "execution_count": 14,
   "id": "855d0280-48f7-4438-af8a-e1df8d7e16f9",
   "metadata": {},
   "outputs": [],
   "source": [
    "daily_cases_url = \"https://www.covid19.admin.ch/api/data/20211027-weppzp5n/sources/COVID19Cases_geoRegion_w.json\""
   ]
  },
  {
   "cell_type": "code",
   "execution_count": 20,
   "id": "a6b5c7c2-51b4-4d60-9285-7f1b831079eb",
   "metadata": {},
   "outputs": [
    {
     "name": "stdout",
     "output_type": "stream",
     "text": [
      "3132\n"
     ]
    },
    {
     "data": {
      "text/html": [
       "<div>\n",
       "<style scoped>\n",
       "    .dataframe tbody tr th:only-of-type {\n",
       "        vertical-align: middle;\n",
       "    }\n",
       "\n",
       "    .dataframe tbody tr th {\n",
       "        vertical-align: top;\n",
       "    }\n",
       "\n",
       "    .dataframe thead th {\n",
       "        text-align: right;\n",
       "    }\n",
       "</style>\n",
       "<table border=\"1\" class=\"dataframe\">\n",
       "  <thead>\n",
       "    <tr style=\"text-align: right;\">\n",
       "      <th></th>\n",
       "      <th>geoRegion</th>\n",
       "      <th>datum</th>\n",
       "      <th>entries</th>\n",
       "      <th>timeframe_all</th>\n",
       "      <th>timeframe_phase2</th>\n",
       "      <th>timeframe_phase2b</th>\n",
       "      <th>timeframe_phase3</th>\n",
       "      <th>timeframe_phase4</th>\n",
       "      <th>timeframe_vacc_info</th>\n",
       "      <th>timeframe_28d</th>\n",
       "      <th>...</th>\n",
       "      <th>inzsumTotal</th>\n",
       "      <th>type</th>\n",
       "      <th>type_variant</th>\n",
       "      <th>version</th>\n",
       "      <th>datum_unit</th>\n",
       "      <th>datum_dboardformated</th>\n",
       "      <th>entries_diff_abs</th>\n",
       "      <th>entries_diff_inz</th>\n",
       "      <th>entries_diff_pct</th>\n",
       "      <th>prct_diff</th>\n",
       "    </tr>\n",
       "  </thead>\n",
       "  <tbody>\n",
       "    <tr>\n",
       "      <th>0</th>\n",
       "      <td>CH</td>\n",
       "      <td>202009</td>\n",
       "      <td>56</td>\n",
       "      <td>True</td>\n",
       "      <td>False</td>\n",
       "      <td>False</td>\n",
       "      <td>False</td>\n",
       "      <td>False</td>\n",
       "      <td>False</td>\n",
       "      <td>False</td>\n",
       "      <td>...</td>\n",
       "      <td>0.65</td>\n",
       "      <td>COVID19Cases</td>\n",
       "      <td></td>\n",
       "      <td>2021-10-27_07-51-17</td>\n",
       "      <td>isoweek</td>\n",
       "      <td>2020-09</td>\n",
       "      <td>NaN</td>\n",
       "      <td>NaN</td>\n",
       "      <td>NaN</td>\n",
       "      <td>NaN</td>\n",
       "    </tr>\n",
       "    <tr>\n",
       "      <th>1</th>\n",
       "      <td>CH</td>\n",
       "      <td>202010</td>\n",
       "      <td>377</td>\n",
       "      <td>True</td>\n",
       "      <td>False</td>\n",
       "      <td>False</td>\n",
       "      <td>False</td>\n",
       "      <td>False</td>\n",
       "      <td>False</td>\n",
       "      <td>False</td>\n",
       "      <td>...</td>\n",
       "      <td>4.99</td>\n",
       "      <td>COVID19Cases</td>\n",
       "      <td></td>\n",
       "      <td>2021-10-27_07-51-17</td>\n",
       "      <td>isoweek</td>\n",
       "      <td>2020-10</td>\n",
       "      <td>321.0</td>\n",
       "      <td>3.70</td>\n",
       "      <td>573.2</td>\n",
       "      <td>0.0</td>\n",
       "    </tr>\n",
       "    <tr>\n",
       "      <th>2</th>\n",
       "      <td>CH</td>\n",
       "      <td>202011</td>\n",
       "      <td>2265</td>\n",
       "      <td>True</td>\n",
       "      <td>False</td>\n",
       "      <td>False</td>\n",
       "      <td>False</td>\n",
       "      <td>False</td>\n",
       "      <td>False</td>\n",
       "      <td>False</td>\n",
       "      <td>...</td>\n",
       "      <td>31.12</td>\n",
       "      <td>COVID19Cases</td>\n",
       "      <td></td>\n",
       "      <td>2021-10-27_07-51-17</td>\n",
       "      <td>isoweek</td>\n",
       "      <td>2020-11</td>\n",
       "      <td>1888.0</td>\n",
       "      <td>21.77</td>\n",
       "      <td>500.8</td>\n",
       "      <td>0.0</td>\n",
       "    </tr>\n",
       "    <tr>\n",
       "      <th>3</th>\n",
       "      <td>CH</td>\n",
       "      <td>202012</td>\n",
       "      <td>6559</td>\n",
       "      <td>True</td>\n",
       "      <td>False</td>\n",
       "      <td>False</td>\n",
       "      <td>False</td>\n",
       "      <td>False</td>\n",
       "      <td>False</td>\n",
       "      <td>False</td>\n",
       "      <td>...</td>\n",
       "      <td>106.77</td>\n",
       "      <td>COVID19Cases</td>\n",
       "      <td></td>\n",
       "      <td>2021-10-27_07-51-17</td>\n",
       "      <td>isoweek</td>\n",
       "      <td>2020-12</td>\n",
       "      <td>4294.0</td>\n",
       "      <td>49.53</td>\n",
       "      <td>189.6</td>\n",
       "      <td>0.0</td>\n",
       "    </tr>\n",
       "    <tr>\n",
       "      <th>4</th>\n",
       "      <td>CH</td>\n",
       "      <td>202013</td>\n",
       "      <td>7346</td>\n",
       "      <td>True</td>\n",
       "      <td>False</td>\n",
       "      <td>False</td>\n",
       "      <td>False</td>\n",
       "      <td>False</td>\n",
       "      <td>False</td>\n",
       "      <td>False</td>\n",
       "      <td>...</td>\n",
       "      <td>191.49</td>\n",
       "      <td>COVID19Cases</td>\n",
       "      <td></td>\n",
       "      <td>2021-10-27_07-51-17</td>\n",
       "      <td>isoweek</td>\n",
       "      <td>2020-13</td>\n",
       "      <td>787.0</td>\n",
       "      <td>9.08</td>\n",
       "      <td>12.0</td>\n",
       "      <td>0.0</td>\n",
       "    </tr>\n",
       "  </tbody>\n",
       "</table>\n",
       "<p>5 rows × 28 columns</p>\n",
       "</div>"
      ],
      "text/plain": [
       "  geoRegion   datum  entries  timeframe_all  timeframe_phase2  \\\n",
       "0        CH  202009       56           True             False   \n",
       "1        CH  202010      377           True             False   \n",
       "2        CH  202011     2265           True             False   \n",
       "3        CH  202012     6559           True             False   \n",
       "4        CH  202013     7346           True             False   \n",
       "\n",
       "   timeframe_phase2b  timeframe_phase3  timeframe_phase4  timeframe_vacc_info  \\\n",
       "0              False             False             False                False   \n",
       "1              False             False             False                False   \n",
       "2              False             False             False                False   \n",
       "3              False             False             False                False   \n",
       "4              False             False             False                False   \n",
       "\n",
       "   timeframe_28d  ...  inzsumTotal          type  type_variant  \\\n",
       "0          False  ...         0.65  COVID19Cases                 \n",
       "1          False  ...         4.99  COVID19Cases                 \n",
       "2          False  ...        31.12  COVID19Cases                 \n",
       "3          False  ...       106.77  COVID19Cases                 \n",
       "4          False  ...       191.49  COVID19Cases                 \n",
       "\n",
       "               version  datum_unit  datum_dboardformated  entries_diff_abs  \\\n",
       "0  2021-10-27_07-51-17     isoweek               2020-09               NaN   \n",
       "1  2021-10-27_07-51-17     isoweek               2020-10             321.0   \n",
       "2  2021-10-27_07-51-17     isoweek               2020-11            1888.0   \n",
       "3  2021-10-27_07-51-17     isoweek               2020-12            4294.0   \n",
       "4  2021-10-27_07-51-17     isoweek               2020-13             787.0   \n",
       "\n",
       "   entries_diff_inz  entries_diff_pct prct_diff  \n",
       "0               NaN               NaN       NaN  \n",
       "1              3.70             573.2       0.0  \n",
       "2             21.77             500.8       0.0  \n",
       "3             49.53             189.6       0.0  \n",
       "4              9.08              12.0       0.0  \n",
       "\n",
       "[5 rows x 28 columns]"
      ]
     },
     "execution_count": 20,
     "metadata": {},
     "output_type": "execute_result"
    }
   ],
   "source": [
    "jsonurl = urllib.request.urlopen(daily_cases_url)\n",
    "observations = json.loads(jsonurl.read())\n",
    "\n",
    "import pandas as pd\n",
    "\n",
    "df = pd.json_normalize(observations)\n",
    "#print (df)\n",
    "print(len(df))\n",
    "df.head(5)"
   ]
  },
  {
   "cell_type": "code",
   "execution_count": null,
   "id": "cc4a8fbc-7eb3-4f1a-9ddf-818066d5e72b",
   "metadata": {},
   "outputs": [],
   "source": []
  }
 ],
 "metadata": {
  "kernelspec": {
   "display_name": "Python 3 (ipykernel)",
   "language": "python",
   "name": "python3"
  },
  "language_info": {
   "codemirror_mode": {
    "name": "ipython",
    "version": 3
   },
   "file_extension": ".py",
   "mimetype": "text/x-python",
   "name": "python",
   "nbconvert_exporter": "python",
   "pygments_lexer": "ipython3",
   "version": "3.9.7"
  }
 },
 "nbformat": 4,
 "nbformat_minor": 5
}
