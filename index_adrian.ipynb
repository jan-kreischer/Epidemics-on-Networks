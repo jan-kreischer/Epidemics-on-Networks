{
  "nbformat": 4,
  "nbformat_minor": 0,
  "metadata": {
    "colab": {
      "name": "netsci_parsing.ipynb",
      "provenance": [],
      "collapsed_sections": [],
      "include_colab_link": true
    },
    "kernelspec": {
      "name": "python3",
      "display_name": "Python 3"
    },
    "language_info": {
      "name": "python"
    }
  },
  "cells": [
    {
      "cell_type": "markdown",
      "metadata": {
        "id": "view-in-github",
        "colab_type": "text"
      },
      "source": [
        "<a href=\"https://colab.research.google.com/github/jan-kreischer/UZH_Network-Science_Final-Project/blob/main/index_adrian.ipynb\" target=\"_parent\"><img src=\"https://colab.research.google.com/assets/colab-badge.svg\" alt=\"Open In Colab\"/></a>"
      ]
    },
    {
      "cell_type": "code",
      "metadata": {
        "id": "XTKTA3-inVuZ",
        "colab": {
          "base_uri": "https://localhost:8080/"
        },
        "outputId": "ee3b8ac7-3874-4a77-c492-466fb07b0823"
      },
      "source": [
        "import pandas as pd\n",
        "import networkx as nx\n",
        "!pip install EoN\n",
        "import EoN\n",
        "import numpy as np\n",
        "import seaborn as sns\n",
        "import networkx as nx\n",
        "import matplotlib.pyplot as plt"
      ],
      "execution_count": 1,
      "outputs": [
        {
          "output_type": "stream",
          "name": "stdout",
          "text": [
            "Collecting EoN\n",
            "  Downloading EoN-1.1.tar.gz (113 kB)\n",
            "\u001b[?25l\r\u001b[K     |███                             | 10 kB 13.7 MB/s eta 0:00:01\r\u001b[K     |█████▉                          | 20 kB 17.3 MB/s eta 0:00:01\r\u001b[K     |████████▊                       | 30 kB 20.1 MB/s eta 0:00:01\r\u001b[K     |███████████▋                    | 40 kB 18.2 MB/s eta 0:00:01\r\u001b[K     |██████████████▌                 | 51 kB 19.1 MB/s eta 0:00:01\r\u001b[K     |█████████████████▍              | 61 kB 21.1 MB/s eta 0:00:01\r\u001b[K     |████████████████████▎           | 71 kB 21.6 MB/s eta 0:00:01\r\u001b[K     |███████████████████████▏        | 81 kB 16.3 MB/s eta 0:00:01\r\u001b[K     |██████████████████████████      | 92 kB 17.2 MB/s eta 0:00:01\r\u001b[K     |█████████████████████████████   | 102 kB 18.0 MB/s eta 0:00:01\r\u001b[K     |███████████████████████████████▉| 112 kB 18.0 MB/s eta 0:00:01\r\u001b[K     |████████████████████████████████| 113 kB 18.0 MB/s \n",
            "\u001b[?25hRequirement already satisfied: networkx in /usr/local/lib/python3.7/dist-packages (from EoN) (2.6.3)\n",
            "Requirement already satisfied: numpy in /usr/local/lib/python3.7/dist-packages (from EoN) (1.19.5)\n",
            "Requirement already satisfied: scipy in /usr/local/lib/python3.7/dist-packages (from EoN) (1.4.1)\n",
            "Requirement already satisfied: matplotlib in /usr/local/lib/python3.7/dist-packages (from EoN) (3.2.2)\n",
            "Requirement already satisfied: cycler>=0.10 in /usr/local/lib/python3.7/dist-packages (from matplotlib->EoN) (0.11.0)\n",
            "Requirement already satisfied: pyparsing!=2.0.4,!=2.1.2,!=2.1.6,>=2.0.1 in /usr/local/lib/python3.7/dist-packages (from matplotlib->EoN) (3.0.6)\n",
            "Requirement already satisfied: python-dateutil>=2.1 in /usr/local/lib/python3.7/dist-packages (from matplotlib->EoN) (2.8.2)\n",
            "Requirement already satisfied: kiwisolver>=1.0.1 in /usr/local/lib/python3.7/dist-packages (from matplotlib->EoN) (1.3.2)\n",
            "Requirement already satisfied: six>=1.5 in /usr/local/lib/python3.7/dist-packages (from python-dateutil>=2.1->matplotlib->EoN) (1.15.0)\n",
            "Building wheels for collected packages: EoN\n",
            "  Building wheel for EoN (setup.py) ... \u001b[?25l\u001b[?25hdone\n",
            "  Created wheel for EoN: filename=EoN-1.1-py3-none-any.whl size=120819 sha256=8811900050ae8de41b5912d49d75e16ad5516bade7a7bb5d986778aaf25251ef\n",
            "  Stored in directory: /root/.cache/pip/wheels/0b/c0/a4/d6001fd809cb84c027ada5c2ab3b6d1cb2e97fec3f9978eae7\n",
            "Successfully built EoN\n",
            "Installing collected packages: EoN\n",
            "Successfully installed EoN-1.1\n"
          ]
        }
      ]
    },
    {
      "cell_type": "code",
      "metadata": {
        "id": "LrCgEi5Pcpoi"
      },
      "source": [
        "def plot_degree_distribution(graph, xscale='linear', yscale='linear', bins=20, density=True):\n",
        "    graph_degrees = graph.degree()\n",
        "    graph_degrees = [graph_degrees[i] for i in graph.nodes()]\n",
        "    fig, ax = plt.subplots()\n",
        "    title = \"Degree Distribution \"\n",
        "\n",
        "    if xscale == 'log':\n",
        "        title+=\"Log\"\n",
        "        binlog = np.logspace(np.log10(min(graph_degrees)),np.log10(max(graph_degrees)), bins)\n",
        "        plt.hist(graph_degrees, binlog, density = density, alpha=0.5)\n",
        "        plt.xlabel('log k')\n",
        "    else:\n",
        "        title+=\"Lin\"\n",
        "        plt.hist(graph_degrees, bins = bins, density = density, alpha=0.5)\n",
        "        plt.xlabel('k')\n",
        "        \n",
        "    if yscale == 'log':\n",
        "        plt.ylabel(\"log P(k)\")\n",
        "        title+=\"-Log Scale\"\n",
        "    else:\n",
        "        plt.ylabel(\"P(k)\")\n",
        "        title+=\"-Lin Scale\"\n",
        "    \n",
        "    plt.xscale(xscale)\n",
        "    plt.yscale(yscale)\n",
        "    plt.title(title)\n",
        "    plt.show() \n",
        "\n",
        "def simulate_SIR_epidemic(graph, infection_rate, recovery_rate, initial_infecteds=None, tmin=0, tmax=50):\n",
        "  return EoN.Gillespie_SIR(graph, infection_rate, recovery_rate, initial_infecteds=initial_infecteds, tmin=tmin, tmax=tmax)\n",
        "\n",
        "def plot_SIR_epidemic(t, S, I, R, title):\n",
        "  plt.title(title)\n",
        "  plt.plot(t, S, color=\"blue\", linestyle='dotted', label = 'Susceptible')\n",
        "  plt.plot(t, I, color=\"red\", linestyle='dashed', label = 'Infected')\n",
        "  plt.plot(t, R, color=\"green\", linestyle='solid', label = 'Recovered')\n",
        "  plt.xlabel('$t$')\n",
        "  plt.ylabel('Number of People')\n",
        "  plt.legend()  \n",
        "  plt.show()"
      ],
      "execution_count": 2,
      "outputs": []
    },
    {
      "cell_type": "code",
      "metadata": {
        "id": "Fnyfyu22KHKI"
      },
      "source": [
        "def read_haslemere_graph():\n",
        "  # First we read the CSV: Contact tracing data over 3 days\n",
        "  tracing_df = pd.read_csv(\"https://raw.githubusercontent.com/skissler/haslemere/master/Kissler_DataS1.csv\")\n",
        "  tracing_df.info()\n",
        "  tracing_graph = nx.Graph()\n",
        "  # Then we add for every contact <= 5m an edge with the attribute distance that shows the exact distance\n",
        "  for index, row in tracing_df.iterrows():\n",
        "      if row[3] <= 5 and not tracing_graph.has_edge(row[1], row[2]):\n",
        "        tracing_graph.add_edge(int(row[1]), int(row[2]), distance=row[3], timestep=row[0])\n",
        "  return tracing_graph"
      ],
      "execution_count": 3,
      "outputs": []
    },
    {
      "cell_type": "code",
      "metadata": {
        "colab": {
          "base_uri": "https://localhost:8080/",
          "height": 527
        },
        "id": "yI-x4oYMno_2",
        "outputId": "b81ed28c-9ac0-4de8-c064-d87c944e4872"
      },
      "source": [
        "graph = read_haslemere_graph()\n",
        "print(len(graph.edges), len(graph.nodes))\n",
        "nx.draw(graph, node_size=15, pos=nx.spring_layout(graph))"
      ],
      "execution_count": 44,
      "outputs": [
        {
          "output_type": "stream",
          "name": "stdout",
          "text": [
            "<class 'pandas.core.frame.DataFrame'>\n",
            "RangeIndex: 102830 entries, 0 to 102829\n",
            "Data columns (total 4 columns):\n",
            " #   Column  Non-Null Count   Dtype\n",
            "---  ------  --------------   -----\n",
            " 0   1       102830 non-null  int64\n",
            " 1   1.1     102830 non-null  int64\n",
            " 2   390     102830 non-null  int64\n",
            " 3   17      102830 non-null  int64\n",
            "dtypes: int64(4)\n",
            "memory usage: 3.1 MB\n",
            "1350 418\n"
          ]
        },
        {
          "output_type": "display_data",
          "data": {
            "image/png": "[encoded data removed]",
            "text/plain": [
              "<Figure size 432x288 with 1 Axes>"
            ]
          },
          "metadata": {}
        }
      ]
    },
    {
      "cell_type": "code",
      "metadata": {
        "colab": {
          "base_uri": "https://localhost:8080/"
        },
        "id": "qFM8QnbLqbZj",
        "outputId": "926e0f58-8848-4791-fc27-f53fa5969f90"
      },
      "source": [
        "nodes = list(graph.nodes())\n",
        "edges = list(graph.edges(data=True))\n",
        "print(nodes[0])\n",
        "print(edges[0:10])"
      ],
      "execution_count": 5,
      "outputs": [
        {
          "output_type": "stream",
          "name": "stdout",
          "text": [
            "12\n",
            "[(12, 342, {'distance': 0, 'timestep': 1}), (12, 217, {'distance': 0, 'timestep': 124}), (12, 330, {'distance': 0, 'timestep': 124}), (12, 220, {'distance': 0, 'timestep': 242}), (12, 269, {'distance': 0, 'timestep': 255}), (12, 215, {'distance': 3, 'timestep': 257}), (12, 239, {'distance': 0, 'timestep': 304}), (12, 229, {'distance': 0, 'timestep': 313}), (12, 129, {'distance': 1, 'timestep': 369}), (12, 421, {'distance': 0, 'timestep': 449})]\n"
          ]
        }
      ]
    },
    {
      "cell_type": "code",
      "metadata": {
        "id": "EXaFXTPXgVb9",
        "colab": {
          "base_uri": "https://localhost:8080/",
          "height": 299
        },
        "outputId": "c1733add-823c-4f95-91fd-d4c911f5e72e"
      },
      "source": [
        "plot_degree_distribution(graph, xscale='log', yscale='log', bins=10)"
      ],
      "execution_count": 6,
      "outputs": [
        {
          "output_type": "display_data",
          "data": {
            "image/png": "[encoded data removed]",
            "text/plain": [
              "<Figure size 432x288 with 1 Axes>"
            ]
          },
          "metadata": {
            "needs_background": "light"
          }
        }
      ]
    },
    {
      "cell_type": "code",
      "metadata": {
        "id": "HaiusA25dend",
        "colab": {
          "base_uri": "https://localhost:8080/",
          "height": 297
        },
        "outputId": "0c6ddd87-a857-407c-f1e3-e84e627e05c6"
      },
      "source": [
        "t, S, I, R = simulate_SIR_epidemic(graph, 0.35, 1, initial_infecteds=list(graph.nodes)[0:3])\n",
        "plot_SIR_epidemic(t, S, I, R, \"Haslemere Infections\")"
      ],
      "execution_count": 40,
      "outputs": [
        {
          "output_type": "display_data",
          "data": {
            "image/png": "[encoded data removed]",
            "text/plain": [
              "<Figure size 432x288 with 1 Axes>"
            ]
          },
          "metadata": {
            "needs_background": "light"
          }
        }
      ]
    },
    {
      "cell_type": "code",
      "metadata": {
        "id": "H-o2JRer0I3J",
        "outputId": "cddaf276-27c8-4689-9eda-c9425dcb5a01",
        "colab": {
          "base_uri": "https://localhost:8080/"
        }
      },
      "source": [
        "print(\"-------Metrics----------\")\n",
        "print(nx.density(graph))\n",
        "print(nx.average_clustering(graph))\n",
        "print(nx.assortativity.degree_assortativity_coefficient(graph))"
      ],
      "execution_count": 47,
      "outputs": [
        {
          "output_type": "stream",
          "name": "stdout",
          "text": [
            "0.01549000034422223\n",
            "0.2032007981513196\n",
            "0.06097892774688882\n"
          ]
        }
      ]
    },
    {
      "cell_type": "code",
      "metadata": {
        "id": "MQrv-kdP1cAl",
        "outputId": "3b2841b0-9d4a-490f-8ee1-063175a570af",
        "colab": {
          "base_uri": "https://localhost:8080/"
        }
      },
      "source": [
        "t_list, max_i_list, final_r_list = [], [], []\n",
        "for i in range(10):\n",
        "  t, S, I, R = simulate_SIR_epidemic(graph, 0.5, 1, initial_infecteds=list(graph.nodes)[0:5])\n",
        "  t_list.append(max(t))\n",
        "  max_i_list.append(max(I))\n",
        "  final_r_list.append(max(R))\n",
        "\n",
        "print(sum(t_list) / len(t_list))\n",
        "print(sum(max_i_list) / len(max_i_list))\n",
        "print(sum(final_r_list) / len(final_r_list))\n",
        "print(graph.number_of_nodes())"
      ],
      "execution_count": 70,
      "outputs": [
        {
          "output_type": "stream",
          "name": "stdout",
          "text": [
            "8.595308120021013\n",
            "111.7\n",
            "299.4\n",
            "418\n"
          ]
        }
      ]
    }
  ]
}